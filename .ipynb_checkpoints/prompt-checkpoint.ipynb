{
 "cells": [
  {
   "cell_type": "code",
   "execution_count": 3,
   "metadata": {},
   "outputs": [
    {
     "name": "stdout",
     "output_type": "stream",
     "text": [
      "Defaulting to user installation because normal site-packages is not writeable\n",
      "Collecting transformers\n",
      "  Downloading transformers-4.38.2-py3-none-any.whl (8.5 MB)\n",
      "\u001b[K     |████████████████████████████████| 8.5 MB 1.3 MB/s eta 0:00:01\n",
      "\u001b[?25hRequirement already satisfied: requests in /srv/software/easybuild/software/Anaconda3/2020.11/lib/python3.8/site-packages (from transformers) (2.24.0)\n",
      "Collecting safetensors>=0.4.1\n",
      "  Downloading safetensors-0.4.2-cp38-cp38-manylinux_2_17_x86_64.manylinux2014_x86_64.whl (1.3 MB)\n",
      "\u001b[K     |████████████████████████████████| 1.3 MB 125.7 MB/s eta 0:00:01\n",
      "\u001b[?25hRequirement already satisfied: pyyaml>=5.1 in /srv/software/easybuild/software/Anaconda3/2020.11/lib/python3.8/site-packages (from transformers) (5.3.1)\n",
      "Collecting tokenizers<0.19,>=0.14\n",
      "  Downloading tokenizers-0.15.2-cp38-cp38-manylinux_2_17_x86_64.manylinux2014_x86_64.whl (3.6 MB)\n",
      "\u001b[K     |████████████████████████████████| 3.6 MB 126.7 MB/s eta 0:00:01\n",
      "\u001b[?25hCollecting huggingface-hub<1.0,>=0.19.3\n",
      "  Downloading huggingface_hub-0.21.4-py3-none-any.whl (346 kB)\n",
      "\u001b[K     |████████████████████████████████| 346 kB 130.1 MB/s eta 0:00:01\n",
      "\u001b[?25hRequirement already satisfied: numpy>=1.17 in /srv/software/easybuild/software/Anaconda3/2020.11/lib/python3.8/site-packages (from transformers) (1.19.2)\n",
      "Requirement already satisfied: tqdm>=4.27 in /srv/software/easybuild/software/Anaconda3/2020.11/lib/python3.8/site-packages (from transformers) (4.50.2)\n",
      "Requirement already satisfied: packaging>=20.0 in /srv/software/easybuild/software/Anaconda3/2020.11/lib/python3.8/site-packages (from transformers) (20.4)\n",
      "Requirement already satisfied: regex!=2019.12.17 in /srv/software/easybuild/software/Anaconda3/2020.11/lib/python3.8/site-packages (from transformers) (2020.10.15)\n",
      "Requirement already satisfied: filelock in /srv/software/easybuild/software/Anaconda3/2020.11/lib/python3.8/site-packages (from transformers) (3.0.12)\n",
      "Requirement already satisfied: idna<3,>=2.5 in /srv/software/easybuild/software/Anaconda3/2020.11/lib/python3.8/site-packages (from requests->transformers) (2.10)\n",
      "Requirement already satisfied: urllib3!=1.25.0,!=1.25.1,<1.26,>=1.21.1 in /srv/software/easybuild/software/Anaconda3/2020.11/lib/python3.8/site-packages (from requests->transformers) (1.25.11)\n",
      "Requirement already satisfied: chardet<4,>=3.0.2 in /srv/software/easybuild/software/Anaconda3/2020.11/lib/python3.8/site-packages (from requests->transformers) (3.0.4)\n",
      "Requirement already satisfied: certifi>=2017.4.17 in /srv/software/easybuild/software/Anaconda3/2020.11/lib/python3.8/site-packages (from requests->transformers) (2020.6.20)\n",
      "Requirement already satisfied: typing-extensions>=3.7.4.3 in /srv/software/easybuild/software/Anaconda3/2020.11/lib/python3.8/site-packages (from huggingface-hub<1.0,>=0.19.3->transformers) (3.7.4.3)\n",
      "Collecting fsspec>=2023.5.0\n",
      "  Downloading fsspec-2024.3.0-py3-none-any.whl (171 kB)\n",
      "\u001b[K     |████████████████████████████████| 171 kB 136.2 MB/s eta 0:00:01\n",
      "\u001b[?25hRequirement already satisfied: six in /srv/software/easybuild/software/Anaconda3/2020.11/lib/python3.8/site-packages (from packaging>=20.0->transformers) (1.15.0)\n",
      "Requirement already satisfied: pyparsing>=2.0.2 in /srv/software/easybuild/software/Anaconda3/2020.11/lib/python3.8/site-packages (from packaging>=20.0->transformers) (2.4.7)\n",
      "Installing collected packages: safetensors, fsspec, huggingface-hub, tokenizers, transformers\n",
      "\u001b[31mERROR: After October 2020 you may experience errors when installing or updating packages. This is because pip will change the way that it resolves dependency conflicts.\n",
      "\n",
      "We recommend you use --use-feature=2020-resolver to test your packages with the new resolver before it becomes the default.\n",
      "\n",
      "huggingface-hub 0.21.4 requires packaging>=20.9, but you'll have packaging 20.4 which is incompatible.\u001b[0m\n",
      "Successfully installed fsspec-2024.3.0 huggingface-hub-0.21.4 safetensors-0.4.2 tokenizers-0.15.2 transformers-4.38.2\n",
      "Note: you may need to restart the kernel to use updated packages.\n"
     ]
    }
   ],
   "source": [
    "pip install transformers "
   ]
  },
  {
   "cell_type": "code",
   "execution_count": 4,
   "metadata": {},
   "outputs": [
    {
     "name": "stdout",
     "output_type": "stream",
     "text": [
      "Defaulting to user installation because normal site-packages is not writeable\n",
      "Collecting git+https://github.com/huggingface/transformers.git\n",
      "  Cloning https://github.com/huggingface/transformers.git to /tmp/pip-req-build-02wvw3h5\n",
      "  Installing build dependencies ... \u001b[?25ldone\n",
      "\u001b[?25h  Getting requirements to build wheel ... \u001b[?25ldone\n",
      "\u001b[?25h    Preparing wheel metadata ... \u001b[?25ldone\n",
      "\u001b[?25hRequirement already satisfied: regex!=2019.12.17 in /srv/software/easybuild/software/Anaconda3/2020.11/lib/python3.8/site-packages (from transformers==4.39.0.dev0) (2020.10.15)\n",
      "Requirement already satisfied: tokenizers<0.19,>=0.14 in /home/houssam.bouchouk/.local/lib/python3.8/site-packages (from transformers==4.39.0.dev0) (0.15.2)\n",
      "Requirement already satisfied: numpy>=1.17 in /srv/software/easybuild/software/Anaconda3/2020.11/lib/python3.8/site-packages (from transformers==4.39.0.dev0) (1.19.2)\n",
      "Requirement already satisfied: huggingface-hub<1.0,>=0.19.3 in /home/houssam.bouchouk/.local/lib/python3.8/site-packages (from transformers==4.39.0.dev0) (0.21.4)\n",
      "Requirement already satisfied: packaging>=20.0 in /srv/software/easybuild/software/Anaconda3/2020.11/lib/python3.8/site-packages (from transformers==4.39.0.dev0) (20.4)\n",
      "Requirement already satisfied: requests in /srv/software/easybuild/software/Anaconda3/2020.11/lib/python3.8/site-packages (from transformers==4.39.0.dev0) (2.24.0)\n",
      "Requirement already satisfied: tqdm>=4.27 in /srv/software/easybuild/software/Anaconda3/2020.11/lib/python3.8/site-packages (from transformers==4.39.0.dev0) (4.50.2)\n",
      "Requirement already satisfied: safetensors>=0.4.1 in /home/houssam.bouchouk/.local/lib/python3.8/site-packages (from transformers==4.39.0.dev0) (0.4.2)\n",
      "Requirement already satisfied: filelock in /srv/software/easybuild/software/Anaconda3/2020.11/lib/python3.8/site-packages (from transformers==4.39.0.dev0) (3.0.12)\n",
      "Requirement already satisfied: pyyaml>=5.1 in /srv/software/easybuild/software/Anaconda3/2020.11/lib/python3.8/site-packages (from transformers==4.39.0.dev0) (5.3.1)\n",
      "Requirement already satisfied: fsspec>=2023.5.0 in /home/houssam.bouchouk/.local/lib/python3.8/site-packages (from huggingface-hub<1.0,>=0.19.3->transformers==4.39.0.dev0) (2024.3.0)\n",
      "Requirement already satisfied: typing-extensions>=3.7.4.3 in /srv/software/easybuild/software/Anaconda3/2020.11/lib/python3.8/site-packages (from huggingface-hub<1.0,>=0.19.3->transformers==4.39.0.dev0) (3.7.4.3)\n",
      "Requirement already satisfied: pyparsing>=2.0.2 in /srv/software/easybuild/software/Anaconda3/2020.11/lib/python3.8/site-packages (from packaging>=20.0->transformers==4.39.0.dev0) (2.4.7)\n",
      "Requirement already satisfied: six in /srv/software/easybuild/software/Anaconda3/2020.11/lib/python3.8/site-packages (from packaging>=20.0->transformers==4.39.0.dev0) (1.15.0)\n",
      "Requirement already satisfied: urllib3!=1.25.0,!=1.25.1,<1.26,>=1.21.1 in /srv/software/easybuild/software/Anaconda3/2020.11/lib/python3.8/site-packages (from requests->transformers==4.39.0.dev0) (1.25.11)\n",
      "Requirement already satisfied: idna<3,>=2.5 in /srv/software/easybuild/software/Anaconda3/2020.11/lib/python3.8/site-packages (from requests->transformers==4.39.0.dev0) (2.10)\n",
      "Requirement already satisfied: certifi>=2017.4.17 in /srv/software/easybuild/software/Anaconda3/2020.11/lib/python3.8/site-packages (from requests->transformers==4.39.0.dev0) (2020.6.20)\n",
      "Requirement already satisfied: chardet<4,>=3.0.2 in /srv/software/easybuild/software/Anaconda3/2020.11/lib/python3.8/site-packages (from requests->transformers==4.39.0.dev0) (3.0.4)\n",
      "Building wheels for collected packages: transformers\n",
      "  Building wheel for transformers (PEP 517) ... \u001b[?25ldone\n",
      "\u001b[?25h  Created wheel for transformers: filename=transformers-4.39.0.dev0-py3-none-any.whl size=8714181 sha256=24c793dafa5f2b5d7b64c7eb25f203c32d175f0c5da3c434e6957993d2c89f97\n",
      "  Stored in directory: /tmp/pip-ephem-wheel-cache-ryypi6xg/wheels/05/0a/97/64ae47c27ba95fae2cb5838e7b4b7247a34d4a8ba5f7092de2\n",
      "Successfully built transformers\n",
      "Installing collected packages: transformers\n",
      "  Attempting uninstall: transformers\n",
      "    Found existing installation: transformers 4.38.2\n",
      "    Uninstalling transformers-4.38.2:\n",
      "      Successfully uninstalled transformers-4.38.2\n",
      "Successfully installed transformers-4.39.0.dev0\n",
      "Note: you may need to restart the kernel to use updated packages.\n"
     ]
    }
   ],
   "source": [
    "pip install git+https://github.com/huggingface/transformers.git"
   ]
  },
  {
   "cell_type": "code",
   "execution_count": 7,
   "metadata": {},
   "outputs": [
    {
     "name": "stdout",
     "output_type": "stream",
     "text": [
      "Defaulting to user installation because normal site-packages is not writeable\n",
      "Collecting accelerate\n",
      "  Downloading accelerate-0.28.0-py3-none-any.whl (290 kB)\n",
      "\u001b[K     |████████████████████████████████| 290 kB 1.3 MB/s eta 0:00:01\n",
      "\u001b[?25hCollecting torch>=1.10.0\n",
      "  Downloading torch-2.2.1-cp38-cp38-manylinux1_x86_64.whl (755.5 MB)\n",
      "\u001b[K     |████████████████████████████████| 755.5 MB 11 kB/s s eta 0:00:014\n",
      "\u001b[?25hRequirement already satisfied: numpy>=1.17 in /srv/software/easybuild/software/Anaconda3/2020.11/lib/python3.8/site-packages (from accelerate) (1.19.2)\n",
      "Requirement already satisfied: packaging>=20.0 in /srv/software/easybuild/software/Anaconda3/2020.11/lib/python3.8/site-packages (from accelerate) (20.4)\n",
      "Requirement already satisfied: huggingface-hub in /home/houssam.bouchouk/.local/lib/python3.8/site-packages (from accelerate) (0.21.4)\n",
      "Requirement already satisfied: psutil in /srv/software/easybuild/software/Anaconda3/2020.11/lib/python3.8/site-packages (from accelerate) (5.7.2)\n",
      "Requirement already satisfied: pyyaml in /srv/software/easybuild/software/Anaconda3/2020.11/lib/python3.8/site-packages (from accelerate) (5.3.1)\n",
      "Requirement already satisfied: safetensors>=0.3.1 in /home/houssam.bouchouk/.local/lib/python3.8/site-packages (from accelerate) (0.4.2)\n",
      "Requirement already satisfied: filelock in /srv/software/easybuild/software/Anaconda3/2020.11/lib/python3.8/site-packages (from torch>=1.10.0->accelerate) (3.0.12)\n",
      "Collecting triton==2.2.0; platform_system == \"Linux\" and platform_machine == \"x86_64\" and python_version < \"3.12\"\n",
      "  Downloading triton-2.2.0-cp38-cp38-manylinux_2_17_x86_64.manylinux2014_x86_64.whl (167.9 MB)\n",
      "\u001b[K     |████████████████████████████████| 167.9 MB 25 kB/s /s eta 0:00:01\n",
      "\u001b[?25hRequirement already satisfied: networkx in /srv/software/easybuild/software/Anaconda3/2020.11/lib/python3.8/site-packages (from torch>=1.10.0->accelerate) (2.5)\n",
      "Requirement already satisfied: sympy in /srv/software/easybuild/software/Anaconda3/2020.11/lib/python3.8/site-packages (from torch>=1.10.0->accelerate) (1.6.2)\n",
      "Collecting nvidia-cusolver-cu12==11.4.5.107; platform_system == \"Linux\" and platform_machine == \"x86_64\"\n",
      "  Downloading nvidia_cusolver_cu12-11.4.5.107-py3-none-manylinux1_x86_64.whl (124.2 MB)\n",
      "\u001b[K     |████████████████████████████████| 124.2 MB 169.5 MB/s eta 0:00:01\n",
      "\u001b[?25hCollecting nvidia-curand-cu12==10.3.2.106; platform_system == \"Linux\" and platform_machine == \"x86_64\"\n",
      "  Downloading nvidia_curand_cu12-10.3.2.106-py3-none-manylinux1_x86_64.whl (56.5 MB)\n",
      "\u001b[K     |████████████████████████████████| 56.5 MB 3.1 MB/s eta 0:00:0101\n",
      "\u001b[?25hCollecting nvidia-cuda-cupti-cu12==12.1.105; platform_system == \"Linux\" and platform_machine == \"x86_64\"\n",
      "  Downloading nvidia_cuda_cupti_cu12-12.1.105-py3-none-manylinux1_x86_64.whl (14.1 MB)\n",
      "\u001b[K     |████████████████████████████████| 14.1 MB 126.7 MB/s eta 0:00:01\n",
      "\u001b[?25hCollecting typing-extensions>=4.8.0\n",
      "  Downloading typing_extensions-4.10.0-py3-none-any.whl (33 kB)\n",
      "Collecting nvidia-cuda-runtime-cu12==12.1.105; platform_system == \"Linux\" and platform_machine == \"x86_64\"\n",
      "  Downloading nvidia_cuda_runtime_cu12-12.1.105-py3-none-manylinux1_x86_64.whl (823 kB)\n",
      "\u001b[K     |████████████████████████████████| 823 kB 128.4 MB/s eta 0:00:01\n",
      "\u001b[?25hCollecting nvidia-cufft-cu12==11.0.2.54; platform_system == \"Linux\" and platform_machine == \"x86_64\"\n",
      "  Downloading nvidia_cufft_cu12-11.0.2.54-py3-none-manylinux1_x86_64.whl (121.6 MB)\n",
      "\u001b[K     |████████████████████████████████| 121.6 MB 157.0 MB/s eta 0:00:01\n",
      "\u001b[?25hCollecting nvidia-cuda-nvrtc-cu12==12.1.105; platform_system == \"Linux\" and platform_machine == \"x86_64\"\n",
      "  Downloading nvidia_cuda_nvrtc_cu12-12.1.105-py3-none-manylinux1_x86_64.whl (23.7 MB)\n",
      "\u001b[K     |████████████████████████████████| 23.7 MB 124.2 MB/s eta 0:00:01\n",
      "\u001b[?25hCollecting nvidia-nccl-cu12==2.19.3; platform_system == \"Linux\" and platform_machine == \"x86_64\"\n",
      "  Downloading nvidia_nccl_cu12-2.19.3-py3-none-manylinux1_x86_64.whl (166.0 MB)\n",
      "\u001b[K     |████████████████████████████████| 166.0 MB 82 kB/s  eta 0:00:0101\n",
      "\u001b[?25hCollecting nvidia-nvtx-cu12==12.1.105; platform_system == \"Linux\" and platform_machine == \"x86_64\"\n",
      "  Downloading nvidia_nvtx_cu12-12.1.105-py3-none-manylinux1_x86_64.whl (99 kB)\n",
      "\u001b[K     |████████████████████████████████| 99 kB 9.5 MB/s s eta 0:00:01\n",
      "\u001b[?25hCollecting nvidia-cusparse-cu12==12.1.0.106; platform_system == \"Linux\" and platform_machine == \"x86_64\"\n",
      "  Downloading nvidia_cusparse_cu12-12.1.0.106-py3-none-manylinux1_x86_64.whl (196.0 MB)\n",
      "\u001b[K     |████████████████████████████████| 196.0 MB 52 kB/s  eta 0:00:012\n",
      "\u001b[?25hCollecting nvidia-cublas-cu12==12.1.3.1; platform_system == \"Linux\" and platform_machine == \"x86_64\"\n",
      "  Downloading nvidia_cublas_cu12-12.1.3.1-py3-none-manylinux1_x86_64.whl (410.6 MB)\n",
      "\u001b[K     |████████████████████████████████| 410.6 MB 7.3 kB/s  eta 0:00:012\n",
      "\u001b[?25hRequirement already satisfied: jinja2 in /srv/software/easybuild/software/Anaconda3/2020.11/lib/python3.8/site-packages (from torch>=1.10.0->accelerate) (2.11.2)\n",
      "Requirement already satisfied: fsspec in /home/houssam.bouchouk/.local/lib/python3.8/site-packages (from torch>=1.10.0->accelerate) (2024.3.0)\n",
      "Collecting nvidia-cudnn-cu12==8.9.2.26; platform_system == \"Linux\" and platform_machine == \"x86_64\"\n",
      "  Downloading nvidia_cudnn_cu12-8.9.2.26-py3-none-manylinux1_x86_64.whl (731.7 MB)\n",
      "\u001b[K     |████████████████████████████████| 731.7 MB 18 kB/s  eta 0:00:0112\n",
      "\u001b[?25hRequirement already satisfied: six in /srv/software/easybuild/software/Anaconda3/2020.11/lib/python3.8/site-packages (from packaging>=20.0->accelerate) (1.15.0)\n",
      "Requirement already satisfied: pyparsing>=2.0.2 in /srv/software/easybuild/software/Anaconda3/2020.11/lib/python3.8/site-packages (from packaging>=20.0->accelerate) (2.4.7)\n",
      "Requirement already satisfied: tqdm>=4.42.1 in /srv/software/easybuild/software/Anaconda3/2020.11/lib/python3.8/site-packages (from huggingface-hub->accelerate) (4.50.2)\n",
      "Requirement already satisfied: requests in /srv/software/easybuild/software/Anaconda3/2020.11/lib/python3.8/site-packages (from huggingface-hub->accelerate) (2.24.0)\n",
      "Requirement already satisfied: decorator>=4.3.0 in /srv/software/easybuild/software/Anaconda3/2020.11/lib/python3.8/site-packages (from networkx->torch>=1.10.0->accelerate) (4.4.2)\n",
      "Requirement already satisfied: mpmath>=0.19 in /srv/software/easybuild/software/Anaconda3/2020.11/lib/python3.8/site-packages (from sympy->torch>=1.10.0->accelerate) (1.1.0)\n",
      "Collecting nvidia-nvjitlink-cu12\n",
      "  Downloading nvidia_nvjitlink_cu12-12.4.99-py3-none-manylinux2014_x86_64.whl (21.1 MB)\n",
      "\u001b[K     |████████████████████████████████| 21.1 MB 130.2 MB/s eta 0:00:01\n",
      "\u001b[?25hRequirement already satisfied: MarkupSafe>=0.23 in /srv/software/easybuild/software/Anaconda3/2020.11/lib/python3.8/site-packages (from jinja2->torch>=1.10.0->accelerate) (1.1.1)\n",
      "Requirement already satisfied: chardet<4,>=3.0.2 in /srv/software/easybuild/software/Anaconda3/2020.11/lib/python3.8/site-packages (from requests->huggingface-hub->accelerate) (3.0.4)\n",
      "Requirement already satisfied: idna<3,>=2.5 in /srv/software/easybuild/software/Anaconda3/2020.11/lib/python3.8/site-packages (from requests->huggingface-hub->accelerate) (2.10)\n",
      "Requirement already satisfied: certifi>=2017.4.17 in /srv/software/easybuild/software/Anaconda3/2020.11/lib/python3.8/site-packages (from requests->huggingface-hub->accelerate) (2020.6.20)\n",
      "Requirement already satisfied: urllib3!=1.25.0,!=1.25.1,<1.26,>=1.21.1 in /srv/software/easybuild/software/Anaconda3/2020.11/lib/python3.8/site-packages (from requests->huggingface-hub->accelerate) (1.25.11)\n",
      "Installing collected packages: triton, nvidia-cublas-cu12, nvidia-nvjitlink-cu12, nvidia-cusparse-cu12, nvidia-cusolver-cu12, nvidia-curand-cu12, nvidia-cuda-cupti-cu12, typing-extensions, nvidia-cuda-runtime-cu12, nvidia-cufft-cu12, nvidia-cuda-nvrtc-cu12, nvidia-nccl-cu12, nvidia-nvtx-cu12, nvidia-cudnn-cu12, torch, accelerate\n",
      "\u001b[31mERROR: After October 2020 you may experience errors when installing or updating packages. This is because pip will change the way that it resolves dependency conflicts.\n",
      "\n",
      "We recommend you use --use-feature=2020-resolver to test your packages with the new resolver before it becomes the default.\n",
      "\n",
      "huggingface-hub 0.21.4 requires packaging>=20.9, but you'll have packaging 20.4 which is incompatible.\u001b[0m\n",
      "Successfully installed accelerate-0.28.0 nvidia-cublas-cu12-12.1.3.1 nvidia-cuda-cupti-cu12-12.1.105 nvidia-cuda-nvrtc-cu12-12.1.105 nvidia-cuda-runtime-cu12-12.1.105 nvidia-cudnn-cu12-8.9.2.26 nvidia-cufft-cu12-11.0.2.54 nvidia-curand-cu12-10.3.2.106 nvidia-cusolver-cu12-11.4.5.107 nvidia-cusparse-cu12-12.1.0.106 nvidia-nccl-cu12-2.19.3 nvidia-nvjitlink-cu12-12.4.99 nvidia-nvtx-cu12-12.1.105 torch-2.2.1 triton-2.2.0 typing-extensions-4.10.0\n",
      "Note: you may need to restart the kernel to use updated packages.\n"
     ]
    }
   ],
   "source": [
    "pip install accelerate"
   ]
  },
  {
   "cell_type": "code",
   "execution_count": 9,
   "metadata": {},
   "outputs": [
    {
     "name": "stdout",
     "output_type": "stream",
     "text": [
      "Defaulting to user installation because normal site-packages is not writeable\n",
      "Requirement already satisfied: torch in /home/houssam.bouchouk/.local/lib/python3.8/site-packages (2.2.1)\n",
      "Collecting torchvision\n",
      "  Downloading torchvision-0.17.1-cp38-cp38-manylinux1_x86_64.whl (6.9 MB)\n",
      "\u001b[K     |████████████████████████████████| 6.9 MB 1.3 MB/s eta 0:00:01\n",
      "\u001b[?25hRequirement already satisfied: nvidia-cuda-runtime-cu12==12.1.105; platform_system == \"Linux\" and platform_machine == \"x86_64\" in /home/houssam.bouchouk/.local/lib/python3.8/site-packages (from torch) (12.1.105)\n",
      "Requirement already satisfied: nvidia-cudnn-cu12==8.9.2.26; platform_system == \"Linux\" and platform_machine == \"x86_64\" in /home/houssam.bouchouk/.local/lib/python3.8/site-packages (from torch) (8.9.2.26)\n",
      "Requirement already satisfied: nvidia-cusparse-cu12==12.1.0.106; platform_system == \"Linux\" and platform_machine == \"x86_64\" in /home/houssam.bouchouk/.local/lib/python3.8/site-packages (from torch) (12.1.0.106)\n",
      "Requirement already satisfied: typing-extensions>=4.8.0 in /home/houssam.bouchouk/.local/lib/python3.8/site-packages (from torch) (4.10.0)\n",
      "Requirement already satisfied: nvidia-nccl-cu12==2.19.3; platform_system == \"Linux\" and platform_machine == \"x86_64\" in /home/houssam.bouchouk/.local/lib/python3.8/site-packages (from torch) (2.19.3)\n",
      "Requirement already satisfied: fsspec in /home/houssam.bouchouk/.local/lib/python3.8/site-packages (from torch) (2024.3.0)\n",
      "Requirement already satisfied: nvidia-cuda-nvrtc-cu12==12.1.105; platform_system == \"Linux\" and platform_machine == \"x86_64\" in /home/houssam.bouchouk/.local/lib/python3.8/site-packages (from torch) (12.1.105)\n",
      "Requirement already satisfied: nvidia-cuda-cupti-cu12==12.1.105; platform_system == \"Linux\" and platform_machine == \"x86_64\" in /home/houssam.bouchouk/.local/lib/python3.8/site-packages (from torch) (12.1.105)\n",
      "Requirement already satisfied: triton==2.2.0; platform_system == \"Linux\" and platform_machine == \"x86_64\" and python_version < \"3.12\" in /home/houssam.bouchouk/.local/lib/python3.8/site-packages (from torch) (2.2.0)\n",
      "Requirement already satisfied: filelock in /srv/software/easybuild/software/Anaconda3/2020.11/lib/python3.8/site-packages (from torch) (3.0.12)\n",
      "Requirement already satisfied: jinja2 in /srv/software/easybuild/software/Anaconda3/2020.11/lib/python3.8/site-packages (from torch) (2.11.2)\n",
      "Requirement already satisfied: nvidia-cufft-cu12==11.0.2.54; platform_system == \"Linux\" and platform_machine == \"x86_64\" in /home/houssam.bouchouk/.local/lib/python3.8/site-packages (from torch) (11.0.2.54)\n",
      "Requirement already satisfied: nvidia-cusolver-cu12==11.4.5.107; platform_system == \"Linux\" and platform_machine == \"x86_64\" in /home/houssam.bouchouk/.local/lib/python3.8/site-packages (from torch) (11.4.5.107)\n",
      "Requirement already satisfied: nvidia-nvtx-cu12==12.1.105; platform_system == \"Linux\" and platform_machine == \"x86_64\" in /home/houssam.bouchouk/.local/lib/python3.8/site-packages (from torch) (12.1.105)\n",
      "Requirement already satisfied: networkx in /srv/software/easybuild/software/Anaconda3/2020.11/lib/python3.8/site-packages (from torch) (2.5)\n",
      "Requirement already satisfied: sympy in /srv/software/easybuild/software/Anaconda3/2020.11/lib/python3.8/site-packages (from torch) (1.6.2)\n",
      "Requirement already satisfied: nvidia-curand-cu12==10.3.2.106; platform_system == \"Linux\" and platform_machine == \"x86_64\" in /home/houssam.bouchouk/.local/lib/python3.8/site-packages (from torch) (10.3.2.106)\n",
      "Requirement already satisfied: nvidia-cublas-cu12==12.1.3.1; platform_system == \"Linux\" and platform_machine == \"x86_64\" in /home/houssam.bouchouk/.local/lib/python3.8/site-packages (from torch) (12.1.3.1)\n",
      "Requirement already satisfied: numpy in /srv/software/easybuild/software/Anaconda3/2020.11/lib/python3.8/site-packages (from torchvision) (1.19.2)\n",
      "Requirement already satisfied: pillow!=8.3.*,>=5.3.0 in /srv/software/easybuild/software/Anaconda3/2020.11/lib/python3.8/site-packages (from torchvision) (8.0.1)\n",
      "Requirement already satisfied: nvidia-nvjitlink-cu12 in /home/houssam.bouchouk/.local/lib/python3.8/site-packages (from nvidia-cusparse-cu12==12.1.0.106; platform_system == \"Linux\" and platform_machine == \"x86_64\"->torch) (12.4.99)\n",
      "Requirement already satisfied: MarkupSafe>=0.23 in /srv/software/easybuild/software/Anaconda3/2020.11/lib/python3.8/site-packages (from jinja2->torch) (1.1.1)\n",
      "Requirement already satisfied: decorator>=4.3.0 in /srv/software/easybuild/software/Anaconda3/2020.11/lib/python3.8/site-packages (from networkx->torch) (4.4.2)\n",
      "Requirement already satisfied: mpmath>=0.19 in /srv/software/easybuild/software/Anaconda3/2020.11/lib/python3.8/site-packages (from sympy->torch) (1.1.0)\n",
      "Installing collected packages: torchvision\n",
      "Successfully installed torchvision-0.17.1\n",
      "Note: you may need to restart the kernel to use updated packages.\n"
     ]
    }
   ],
   "source": [
    "pip install torch torchvision"
   ]
  },
  {
   "cell_type": "code",
   "execution_count": 15,
   "metadata": {},
   "outputs": [
    {
     "name": "stdout",
     "output_type": "stream",
     "text": [
      "Defaulting to user installation because normal site-packages is not writeable\n",
      "Requirement already satisfied: torch in /home/houssam.bouchouk/.local/lib/python3.8/site-packages (2.2.1)\n",
      "Requirement already satisfied: torchvision in /home/houssam.bouchouk/.local/lib/python3.8/site-packages (0.17.1)\n",
      "Requirement already satisfied: nvidia-curand-cu12==10.3.2.106; platform_system == \"Linux\" and platform_machine == \"x86_64\" in /home/houssam.bouchouk/.local/lib/python3.8/site-packages (from torch) (10.3.2.106)\n",
      "Requirement already satisfied: typing-extensions>=4.8.0 in /home/houssam.bouchouk/.local/lib/python3.8/site-packages (from torch) (4.10.0)\n",
      "Requirement already satisfied: nvidia-nccl-cu12==2.19.3; platform_system == \"Linux\" and platform_machine == \"x86_64\" in /home/houssam.bouchouk/.local/lib/python3.8/site-packages (from torch) (2.19.3)\n",
      "Requirement already satisfied: nvidia-cusolver-cu12==11.4.5.107; platform_system == \"Linux\" and platform_machine == \"x86_64\" in /home/houssam.bouchouk/.local/lib/python3.8/site-packages (from torch) (11.4.5.107)\n",
      "Requirement already satisfied: nvidia-cublas-cu12==12.1.3.1; platform_system == \"Linux\" and platform_machine == \"x86_64\" in /home/houssam.bouchouk/.local/lib/python3.8/site-packages (from torch) (12.1.3.1)\n",
      "Requirement already satisfied: networkx in /srv/software/easybuild/software/Anaconda3/2020.11/lib/python3.8/site-packages (from torch) (2.5)\n",
      "Requirement already satisfied: jinja2 in /srv/software/easybuild/software/Anaconda3/2020.11/lib/python3.8/site-packages (from torch) (2.11.2)\n",
      "Requirement already satisfied: filelock in /srv/software/easybuild/software/Anaconda3/2020.11/lib/python3.8/site-packages (from torch) (3.0.12)\n",
      "Requirement already satisfied: fsspec in /home/houssam.bouchouk/.local/lib/python3.8/site-packages (from torch) (2024.3.0)\n",
      "Requirement already satisfied: nvidia-cuda-cupti-cu12==12.1.105; platform_system == \"Linux\" and platform_machine == \"x86_64\" in /home/houssam.bouchouk/.local/lib/python3.8/site-packages (from torch) (12.1.105)\n",
      "Requirement already satisfied: triton==2.2.0; platform_system == \"Linux\" and platform_machine == \"x86_64\" and python_version < \"3.12\" in /home/houssam.bouchouk/.local/lib/python3.8/site-packages (from torch) (2.2.0)\n",
      "Requirement already satisfied: nvidia-cudnn-cu12==8.9.2.26; platform_system == \"Linux\" and platform_machine == \"x86_64\" in /home/houssam.bouchouk/.local/lib/python3.8/site-packages (from torch) (8.9.2.26)\n",
      "Requirement already satisfied: nvidia-cufft-cu12==11.0.2.54; platform_system == \"Linux\" and platform_machine == \"x86_64\" in /home/houssam.bouchouk/.local/lib/python3.8/site-packages (from torch) (11.0.2.54)\n",
      "Requirement already satisfied: nvidia-cuda-runtime-cu12==12.1.105; platform_system == \"Linux\" and platform_machine == \"x86_64\" in /home/houssam.bouchouk/.local/lib/python3.8/site-packages (from torch) (12.1.105)\n",
      "Requirement already satisfied: nvidia-nvtx-cu12==12.1.105; platform_system == \"Linux\" and platform_machine == \"x86_64\" in /home/houssam.bouchouk/.local/lib/python3.8/site-packages (from torch) (12.1.105)\n",
      "Requirement already satisfied: nvidia-cusparse-cu12==12.1.0.106; platform_system == \"Linux\" and platform_machine == \"x86_64\" in /home/houssam.bouchouk/.local/lib/python3.8/site-packages (from torch) (12.1.0.106)\n",
      "Requirement already satisfied: nvidia-cuda-nvrtc-cu12==12.1.105; platform_system == \"Linux\" and platform_machine == \"x86_64\" in /home/houssam.bouchouk/.local/lib/python3.8/site-packages (from torch) (12.1.105)\n",
      "Requirement already satisfied: sympy in /srv/software/easybuild/software/Anaconda3/2020.11/lib/python3.8/site-packages (from torch) (1.6.2)\n",
      "Requirement already satisfied: numpy in /srv/software/easybuild/software/Anaconda3/2020.11/lib/python3.8/site-packages (from torchvision) (1.19.2)\n",
      "Requirement already satisfied: pillow!=8.3.*,>=5.3.0 in /srv/software/easybuild/software/Anaconda3/2020.11/lib/python3.8/site-packages (from torchvision) (8.0.1)\n",
      "Requirement already satisfied: nvidia-nvjitlink-cu12 in /home/houssam.bouchouk/.local/lib/python3.8/site-packages (from nvidia-cusolver-cu12==11.4.5.107; platform_system == \"Linux\" and platform_machine == \"x86_64\"->torch) (12.4.99)\n",
      "Requirement already satisfied: decorator>=4.3.0 in /srv/software/easybuild/software/Anaconda3/2020.11/lib/python3.8/site-packages (from networkx->torch) (4.4.2)\n",
      "Requirement already satisfied: MarkupSafe>=0.23 in /srv/software/easybuild/software/Anaconda3/2020.11/lib/python3.8/site-packages (from jinja2->torch) (1.1.1)\n",
      "Requirement already satisfied: mpmath>=0.19 in /srv/software/easybuild/software/Anaconda3/2020.11/lib/python3.8/site-packages (from sympy->torch) (1.1.0)\n",
      "Note: you may need to restart the kernel to use updated packages.\n"
     ]
    }
   ],
   "source": [
    "pip install torch torchvision"
   ]
  },
  {
   "cell_type": "code",
   "execution_count": 16,
   "metadata": {},
   "outputs": [
    {
     "ename": "ModuleNotFoundError",
     "evalue": "No module named 'torch'",
     "output_type": "error",
     "traceback": [
      "\u001b[0;31m---------------------------------------------------------------------------\u001b[0m",
      "\u001b[0;31mModuleNotFoundError\u001b[0m                       Traceback (most recent call last)",
      "\u001b[0;32m<ipython-input-16-c74826d0040c>\u001b[0m in \u001b[0;36m<module>\u001b[0;34m\u001b[0m\n\u001b[1;32m      3\u001b[0m \u001b[0;31m# pip install accelerate\u001b[0m\u001b[0;34m\u001b[0m\u001b[0;34m\u001b[0m\u001b[0;34m\u001b[0m\u001b[0m\n\u001b[1;32m      4\u001b[0m \u001b[0;34m\u001b[0m\u001b[0m\n\u001b[0;32m----> 5\u001b[0;31m \u001b[0;32mimport\u001b[0m \u001b[0mtorch\u001b[0m\u001b[0;34m\u001b[0m\u001b[0;34m\u001b[0m\u001b[0m\n\u001b[0m\u001b[1;32m      6\u001b[0m \u001b[0;32mfrom\u001b[0m \u001b[0mtransformers\u001b[0m \u001b[0;32mimport\u001b[0m \u001b[0mpipeline\u001b[0m\u001b[0;34m\u001b[0m\u001b[0;34m\u001b[0m\u001b[0m\n\u001b[1;32m      7\u001b[0m \u001b[0;34m\u001b[0m\u001b[0m\n",
      "\u001b[0;31mModuleNotFoundError\u001b[0m: No module named 'torch'"
     ]
    }
   ],
   "source": [
    "# Install transformers from source - only needed for versions <= v4.34\n",
    "# pip install git+https://github.com/huggingface/transformers.git\n",
    "# pip install accelerate\n",
    "\n",
    "import torch\n",
    "from transformers import pipeline\n",
    "\n",
    "pipe = pipeline(\"text-generation\", model=\"HuggingFaceH4/zephyr-7b-alpha\", torch_dtype=torch.bfloat16, device_map=\"auto\")\n",
    "\n",
    "# We use the tokenizer's chat template to format each message - see https://huggingface.co/docs/transformers/main/en/chat_templating\n",
    "messages = [\n",
    "    {\n",
    "        \"role\": \"system\",\n",
    "        \"content\": \"You are a friendly chatbot who always responds in the style of a pirate\",\n",
    "    },\n",
    "    {\"role\": \"user\", \"content\": \"How many helicopters can a human eat in one sitting?\"},\n",
    "]\n",
    "prompt = pipe.tokenizer.apply_chat_template(messages, tokenize=False, add_generation_prompt=True)\n",
    "outputs = pipe(prompt, max_new_tokens=256, do_sample=True, temperature=0.7, top_k=50, top_p=0.95)\n",
    "print(outputs[0][\"generated_text\"])\n",
    "# <|system|>\n",
    "# You are a friendly chatbot who always responds in the style of a pirate.</s>\n",
    "# <|user|>\n",
    "# How many helicopters can a human eat in one sitting?</s>\n",
    "# <|assistant|>\n",
    "# Ah, me hearty matey! But yer question be a puzzler! A human cannot eat a helicopter in one sitting, as helicopters are not edible. They be made of metal, plastic, and other materials, not food!\n"
   ]
  }
 ],
 "metadata": {
  "kernelspec": {
   "display_name": "Python 3",
   "language": "python",
   "name": "python3"
  },
  "language_info": {
   "codemirror_mode": {
    "name": "ipython",
    "version": 3
   },
   "file_extension": ".py",
   "mimetype": "text/x-python",
   "name": "python",
   "nbconvert_exporter": "python",
   "pygments_lexer": "ipython3",
   "version": "3.8.5"
  }
 },
 "nbformat": 4,
 "nbformat_minor": 4
}
